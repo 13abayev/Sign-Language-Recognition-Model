{
 "cells": [
  {
   "cell_type": "code",
   "metadata": {
    "ExecuteTime": {
     "end_time": "2024-11-18T20:22:30.189068Z",
     "start_time": "2024-11-18T20:22:25.337025Z"
    }
   },
   "source": [
    "from tensorflow.keras import layers, models\n",
    "import tensorflow as tf\n",
    "from tensorflow.keras.layers import MultiHeadAttention, Dense, Flatten, Input, LayerNormalization, Add, Conv1D, MaxPooling1D, LSTM\n",
    "from tensorflow.keras.models import Model, Sequential\n",
    "\n",
    "from sklearn.metrics import classification_report, confusion_matrix\n",
    "\n",
    "import numpy as np\n",
    "import seaborn as sns\n",
    "import matplotlib.pyplot as plt\n",
    "import pickle"
   ],
   "outputs": [],
   "execution_count": 1
  },
  {
   "cell_type": "code",
   "metadata": {
    "ExecuteTime": {
     "end_time": "2024-11-18T20:23:41.471384Z",
     "start_time": "2024-11-18T20:23:41.330415Z"
    }
   },
   "source": [
    "def load_data(name, prefix, file_format = \"pkl\"):\n",
    "    path = prefix + f\"{name}.{file_format}\"\n",
    "    with open(path, \"rb\") as f:\n",
    "        return pickle.load(f)\n",
    "\n",
    "\n",
    "X_train = load_data(\"X_train_final\", prefix=\"../datas/demo dataset/\")\n",
    "X_train_flipped = load_data(\"X_train_final\", prefix=\"../datas/demo dataset flipped/\")\n",
    "X_train = np.concatenate((X_train, X_train_flipped), axis = 0)\n",
    "\n",
    "X_test = load_data(\"X_test_final\", prefix=\"../datas/demo dataset/\")\n",
    "X_test_flipped = load_data(\"X_test_final\", prefix=\"../datas/demo dataset flipped/\")\n",
    "X_test = np.concatenate((X_test, X_test_flipped), axis = 0)\n",
    "\n",
    "X_val = load_data(\"X_val_final\", prefix=\"../datas/demo dataset/\")\n",
    "X_val_flipped = load_data(\"X_val_final\", prefix=\"../datas/demo dataset flipped/\")\n",
    "X_val = np.concatenate((X_val, X_val_flipped), axis = 0)\n",
    "\n",
    "\n",
    "y_train = load_data(\"y_train_final\", prefix=\"../datas/demo dataset/\")\n",
    "y_train_flipped = load_data(\"y_train_final\", prefix=\"../datas/demo dataset flipped/\")\n",
    "y_train = np.concatenate((y_train, y_train_flipped), axis = 0)\n",
    "\n",
    "y_test = load_data(\"y_test_final\", prefix=\"../datas/demo dataset/\")\n",
    "y_test_flipped = load_data(\"y_test_final\", prefix=\"../datas/demo dataset flipped/\")\n",
    "y_test = np.concatenate((y_test, y_test_flipped), axis = 0)\n",
    "\n",
    "y_val = load_data(\"y_val_final\", prefix=\"../datas/demo dataset/\")\n",
    "y_val_flipped = load_data(\"y_val_final\", prefix=\"../datas/demo dataset flipped/\")\n",
    "y_val = np.concatenate((y_val, y_val_flipped), axis = 0)"
   ],
   "outputs": [],
   "execution_count": 2
  },
  {
   "cell_type": "markdown",
   "metadata": {},
   "source": [
    "## Transformer Learning"
   ]
  },
  {
   "cell_type": "code",
   "metadata": {
    "ExecuteTime": {
     "end_time": "2024-11-18T20:27:20.159652Z",
     "start_time": "2024-11-18T20:27:16.775456Z"
    }
   },
   "source": [
    "def transformer_encoder(inputs, head_size, num_heads, dropout_rate=0.18):\n",
    "    x = layers.LayerNormalization()(inputs)\n",
    "    x = layers.MultiHeadAttention(key_dim=head_size, num_heads=num_heads)(x, x)\n",
    "    x = layers.Dropout(dropout_rate)(x)\n",
    "    x = layers.Add()([x, inputs])\n",
    "    x = layers.LayerNormalization()(x)\n",
    "    x = layers.Dense(64, activation=\"relu\")(x)\n",
    "    x = layers.Dropout(dropout_rate)(x)\n",
    "    return layers.Add()([x, x])\n",
    "\n",
    "input_layer = layers.Input(shape=(40, 86))\n",
    "x = transformer_encoder(input_layer, head_size=32, num_heads=4)\n",
    "x = layers.Flatten()(x)\n",
    "output = layers.Dense(269, activation='softmax')(x)\n",
    "\n",
    "transformer_model = Model(inputs=input_layer, outputs=output)\n",
    "transformer_model.compile(optimizer='adam', loss='sparse_categorical_crossentropy', metrics=['accuracy'])\n",
    "transformer_model.summary()"
   ],
   "outputs": [
    {
     "name": "stdout",
     "output_type": "stream",
     "text": [
      "Model: \"model\"\n",
      "__________________________________________________________________________________________________\n",
      " Layer (type)                   Output Shape         Param #     Connected to                     \n",
      "==================================================================================================\n",
      " input_1 (InputLayer)           [(None, 40, 86)]     0           []                               \n",
      "                                                                                                  \n",
      " layer_normalization (LayerNorm  (None, 40, 86)      172         ['input_1[0][0]']                \n",
      " alization)                                                                                       \n",
      "                                                                                                  \n",
      " multi_head_attention (MultiHea  (None, 40, 86)      44502       ['layer_normalization[0][0]',    \n",
      " dAttention)                                                      'layer_normalization[0][0]']    \n",
      "                                                                                                  \n",
      " dropout (Dropout)              (None, 40, 86)       0           ['multi_head_attention[0][0]']   \n",
      "                                                                                                  \n",
      " add (Add)                      (None, 40, 86)       0           ['dropout[0][0]',                \n",
      "                                                                  'input_1[0][0]']                \n",
      "                                                                                                  \n",
      " layer_normalization_1 (LayerNo  (None, 40, 86)      172         ['add[0][0]']                    \n",
      " rmalization)                                                                                     \n",
      "                                                                                                  \n",
      " dense (Dense)                  (None, 40, 64)       5568        ['layer_normalization_1[0][0]']  \n",
      "                                                                                                  \n",
      " dropout_1 (Dropout)            (None, 40, 64)       0           ['dense[0][0]']                  \n",
      "                                                                                                  \n",
      " add_1 (Add)                    (None, 40, 64)       0           ['dropout_1[0][0]',              \n",
      "                                                                  'dropout_1[0][0]']              \n",
      "                                                                                                  \n",
      " flatten (Flatten)              (None, 2560)         0           ['add_1[0][0]']                  \n",
      "                                                                                                  \n",
      " dense_1 (Dense)                (None, 269)          688909      ['flatten[0][0]']                \n",
      "                                                                                                  \n",
      "==================================================================================================\n",
      "Total params: 739,323\n",
      "Trainable params: 739,323\n",
      "Non-trainable params: 0\n",
      "__________________________________________________________________________________________________\n"
     ]
    }
   ],
   "execution_count": 3
  },
  {
   "cell_type": "code",
   "metadata": {
    "ExecuteTime": {
     "end_time": "2024-11-18T20:27:48.571558Z",
     "start_time": "2024-11-18T20:27:32.096370Z"
    }
   },
   "source": [
    "transformer_model.fit(X_train, y_train, validation_data=(X_val, y_val), epochs=45, batch_size=32, verbose=1)\n",
    "transformer_model.evaluate(X_test, y_test)"
   ],
   "outputs": [
    {
     "name": "stdout",
     "output_type": "stream",
     "text": [
      "Epoch 1/45\n",
      "18/18 [==============================] - 6s 43ms/step - loss: 3.1671 - accuracy: 0.1661 - val_loss: 2.3026 - val_accuracy: 0.2337\n",
      "Epoch 2/45\n",
      "18/18 [==============================] - 0s 12ms/step - loss: 1.9917 - accuracy: 0.3520 - val_loss: 1.6311 - val_accuracy: 0.3859\n",
      "Epoch 3/45\n",
      "18/18 [==============================] - 0s 12ms/step - loss: 1.5848 - accuracy: 0.4765 - val_loss: 1.7786 - val_accuracy: 0.4783\n",
      "Epoch 4/45\n",
      "18/18 [==============================] - 0s 11ms/step - loss: 1.3701 - accuracy: 0.5433 - val_loss: 1.6421 - val_accuracy: 0.4457\n",
      "Epoch 5/45\n",
      "18/18 [==============================] - 0s 12ms/step - loss: 1.1272 - accuracy: 0.6191 - val_loss: 1.4730 - val_accuracy: 0.5000\n",
      "Epoch 6/45\n",
      "18/18 [==============================] - 0s 12ms/step - loss: 0.9216 - accuracy: 0.6895 - val_loss: 1.4435 - val_accuracy: 0.6141\n",
      "Epoch 7/45\n",
      "18/18 [==============================] - 0s 12ms/step - loss: 0.8465 - accuracy: 0.7094 - val_loss: 1.6657 - val_accuracy: 0.5109\n",
      "Epoch 8/45\n",
      "18/18 [==============================] - 0s 12ms/step - loss: 0.7220 - accuracy: 0.7256 - val_loss: 1.4257 - val_accuracy: 0.6033\n",
      "Epoch 9/45\n",
      "18/18 [==============================] - 0s 12ms/step - loss: 0.6868 - accuracy: 0.7635 - val_loss: 1.4972 - val_accuracy: 0.5815\n",
      "Epoch 10/45\n",
      "18/18 [==============================] - 0s 12ms/step - loss: 0.5756 - accuracy: 0.7996 - val_loss: 1.3583 - val_accuracy: 0.6685\n",
      "Epoch 11/45\n",
      "18/18 [==============================] - 0s 12ms/step - loss: 0.5802 - accuracy: 0.8014 - val_loss: 1.4245 - val_accuracy: 0.6739\n",
      "Epoch 12/45\n",
      "18/18 [==============================] - 0s 12ms/step - loss: 0.5246 - accuracy: 0.7960 - val_loss: 1.5187 - val_accuracy: 0.6467\n",
      "Epoch 13/45\n",
      "18/18 [==============================] - 0s 13ms/step - loss: 0.4947 - accuracy: 0.8249 - val_loss: 1.6462 - val_accuracy: 0.6304\n",
      "Epoch 14/45\n",
      "18/18 [==============================] - 0s 12ms/step - loss: 0.5242 - accuracy: 0.8051 - val_loss: 1.7108 - val_accuracy: 0.6196\n",
      "Epoch 15/45\n",
      "18/18 [==============================] - 0s 13ms/step - loss: 0.4128 - accuracy: 0.8863 - val_loss: 1.5459 - val_accuracy: 0.6739\n",
      "Epoch 16/45\n",
      "18/18 [==============================] - 0s 13ms/step - loss: 0.3090 - accuracy: 0.8917 - val_loss: 1.8801 - val_accuracy: 0.6359\n",
      "Epoch 17/45\n",
      "18/18 [==============================] - 0s 11ms/step - loss: 0.3409 - accuracy: 0.8718 - val_loss: 1.9318 - val_accuracy: 0.6413\n",
      "Epoch 18/45\n",
      "18/18 [==============================] - 0s 12ms/step - loss: 0.2871 - accuracy: 0.9025 - val_loss: 1.7607 - val_accuracy: 0.6413\n",
      "Epoch 19/45\n",
      "18/18 [==============================] - 0s 13ms/step - loss: 0.2988 - accuracy: 0.8971 - val_loss: 1.7743 - val_accuracy: 0.7174\n",
      "Epoch 20/45\n",
      "18/18 [==============================] - 0s 12ms/step - loss: 0.2704 - accuracy: 0.9116 - val_loss: 1.5374 - val_accuracy: 0.7554\n",
      "Epoch 21/45\n",
      "18/18 [==============================] - 0s 12ms/step - loss: 0.2329 - accuracy: 0.9296 - val_loss: 1.8591 - val_accuracy: 0.7120\n",
      "Epoch 22/45\n",
      "18/18 [==============================] - 0s 13ms/step - loss: 0.3160 - accuracy: 0.9025 - val_loss: 2.0945 - val_accuracy: 0.6848\n",
      "Epoch 23/45\n",
      "18/18 [==============================] - 0s 12ms/step - loss: 0.2493 - accuracy: 0.9188 - val_loss: 1.9479 - val_accuracy: 0.6739\n",
      "Epoch 24/45\n",
      "18/18 [==============================] - 0s 12ms/step - loss: 0.2353 - accuracy: 0.9332 - val_loss: 1.9116 - val_accuracy: 0.7228\n",
      "Epoch 25/45\n",
      "18/18 [==============================] - 0s 12ms/step - loss: 0.3618 - accuracy: 0.8899 - val_loss: 1.8606 - val_accuracy: 0.7120\n",
      "Epoch 26/45\n",
      "18/18 [==============================] - 0s 13ms/step - loss: 0.3372 - accuracy: 0.8935 - val_loss: 1.8849 - val_accuracy: 0.6848\n",
      "Epoch 27/45\n",
      "18/18 [==============================] - 0s 12ms/step - loss: 0.2147 - accuracy: 0.9260 - val_loss: 2.0015 - val_accuracy: 0.6630\n",
      "Epoch 28/45\n",
      "18/18 [==============================] - 0s 12ms/step - loss: 0.1787 - accuracy: 0.9404 - val_loss: 1.9742 - val_accuracy: 0.7065\n",
      "Epoch 29/45\n",
      "18/18 [==============================] - 0s 13ms/step - loss: 0.1415 - accuracy: 0.9603 - val_loss: 1.9424 - val_accuracy: 0.7500\n",
      "Epoch 30/45\n",
      "18/18 [==============================] - 0s 12ms/step - loss: 0.1479 - accuracy: 0.9657 - val_loss: 1.9559 - val_accuracy: 0.7663\n",
      "Epoch 31/45\n",
      "18/18 [==============================] - 0s 12ms/step - loss: 0.1308 - accuracy: 0.9513 - val_loss: 2.0199 - val_accuracy: 0.7500\n",
      "Epoch 32/45\n",
      "18/18 [==============================] - 0s 12ms/step - loss: 0.1484 - accuracy: 0.9477 - val_loss: 1.9541 - val_accuracy: 0.7446\n",
      "Epoch 33/45\n",
      "18/18 [==============================] - 0s 12ms/step - loss: 0.0965 - accuracy: 0.9693 - val_loss: 2.0307 - val_accuracy: 0.7337\n",
      "Epoch 34/45\n",
      "18/18 [==============================] - 0s 13ms/step - loss: 0.1042 - accuracy: 0.9711 - val_loss: 2.1570 - val_accuracy: 0.7011\n",
      "Epoch 35/45\n",
      "18/18 [==============================] - 0s 11ms/step - loss: 0.1523 - accuracy: 0.9585 - val_loss: 2.4275 - val_accuracy: 0.6304\n",
      "Epoch 36/45\n",
      "18/18 [==============================] - 0s 12ms/step - loss: 0.1856 - accuracy: 0.9422 - val_loss: 2.1344 - val_accuracy: 0.7500\n",
      "Epoch 37/45\n",
      "18/18 [==============================] - 0s 12ms/step - loss: 0.1729 - accuracy: 0.9549 - val_loss: 2.0443 - val_accuracy: 0.7228\n",
      "Epoch 38/45\n",
      "18/18 [==============================] - 0s 12ms/step - loss: 0.1426 - accuracy: 0.9549 - val_loss: 2.2107 - val_accuracy: 0.7011\n",
      "Epoch 39/45\n",
      "18/18 [==============================] - 0s 13ms/step - loss: 0.1261 - accuracy: 0.9621 - val_loss: 1.9734 - val_accuracy: 0.7500\n",
      "Epoch 40/45\n",
      "18/18 [==============================] - 0s 12ms/step - loss: 0.1034 - accuracy: 0.9639 - val_loss: 2.1328 - val_accuracy: 0.7446\n",
      "Epoch 41/45\n",
      "18/18 [==============================] - 0s 12ms/step - loss: 0.0853 - accuracy: 0.9747 - val_loss: 1.8843 - val_accuracy: 0.7391\n",
      "Epoch 42/45\n",
      "18/18 [==============================] - 0s 13ms/step - loss: 0.0728 - accuracy: 0.9819 - val_loss: 2.1570 - val_accuracy: 0.6957\n",
      "Epoch 43/45\n",
      "18/18 [==============================] - 0s 13ms/step - loss: 0.0677 - accuracy: 0.9819 - val_loss: 2.0061 - val_accuracy: 0.7500\n",
      "Epoch 44/45\n",
      "18/18 [==============================] - 0s 13ms/step - loss: 0.0530 - accuracy: 0.9801 - val_loss: 2.0014 - val_accuracy: 0.7609\n",
      "Epoch 45/45\n",
      "18/18 [==============================] - 0s 13ms/step - loss: 0.0813 - accuracy: 0.9711 - val_loss: 2.3903 - val_accuracy: 0.6576\n",
      "4/4 [==============================] - 0s 3ms/step - loss: 1.0702 - accuracy: 0.7925\n"
     ]
    },
    {
     "data": {
      "text/plain": [
       "[1.070172905921936, 0.7924528121948242]"
      ]
     },
     "execution_count": 4,
     "metadata": {},
     "output_type": "execute_result"
    }
   ],
   "execution_count": 4
  },
  {
   "cell_type": "markdown",
   "metadata": {},
   "source": [
    "## CNN + LSTM/GRU Hybrid"
   ]
  },
  {
   "cell_type": "code",
   "metadata": {
    "ExecuteTime": {
     "end_time": "2024-11-18T20:28:09.158330Z",
     "start_time": "2024-11-18T20:28:08.565564Z"
    }
   },
   "source": [
    "LSTM_GRU = Sequential([\n",
    "    Conv1D(64, kernel_size=3, activation='relu', input_shape=(40, 86)),\n",
    "    MaxPooling1D(2),\n",
    "    layers.Conv1D(128, kernel_size=3, activation='relu'),\n",
    "    layers.MaxPooling1D(2),\n",
    "    \n",
    "    layers.LSTM(128, return_sequences=True),\n",
    "    layers.LSTM(64),\n",
    "\n",
    "    layers.Dense(269, activation='softmax')\n",
    "])\n",
    "\n",
    "LSTM_GRU.compile(optimizer='adam', loss='sparse_categorical_crossentropy', metrics=['accuracy'])"
   ],
   "outputs": [],
   "execution_count": 5
  },
  {
   "cell_type": "code",
   "metadata": {
    "ExecuteTime": {
     "end_time": "2024-11-18T20:28:54.777695Z",
     "start_time": "2024-11-18T20:28:10.290551Z"
    }
   },
   "source": [
    "LSTM_GRU.fit(X_train, y_train, validation_data=(X_val, y_val), epochs=100, batch_size=32, verbose=0)\n",
    "LSTM_GRU.evaluate(X_test, y_test)"
   ],
   "outputs": [
    {
     "name": "stdout",
     "output_type": "stream",
     "text": [
      "4/4 [==============================] - 0s 7ms/step - loss: 1.1441 - accuracy: 0.6792\n"
     ]
    },
    {
     "data": {
      "text/plain": [
       "[1.144097924232483, 0.6792452931404114]"
      ]
     },
     "execution_count": 6,
     "metadata": {},
     "output_type": "execute_result"
    }
   ],
   "execution_count": 6
  },
  {
   "cell_type": "markdown",
   "metadata": {},
   "source": [
    "## 3D Convolutional Neural Network (3D-CNN)"
   ]
  },
  {
   "cell_type": "code",
   "metadata": {
    "ExecuteTime": {
     "end_time": "2024-11-18T20:28:54.863080Z",
     "start_time": "2024-11-18T20:28:54.777695Z"
    }
   },
   "source": [
    "input_layer = Input(shape=(40, 86))\n",
    "x = Conv1D(32, kernel_size=3, activation='relu')(input_layer)\n",
    "x = MaxPooling1D(2)(x)\n",
    "x = Conv1D(64, kernel_size=3, activation='relu')(x)\n",
    "x = MaxPooling1D(2)(x)\n",
    "\n",
    "x = Flatten()(x)\n",
    "output = Dense(269, activation='softmax')(x)\n",
    "\n",
    "CNN_3D = Model(inputs=input_layer, outputs=output)\n",
    "CNN_3D.compile(optimizer='adam', loss='sparse_categorical_crossentropy', metrics=['accuracy'])"
   ],
   "outputs": [],
   "execution_count": 7
  },
  {
   "cell_type": "code",
   "metadata": {
    "ExecuteTime": {
     "end_time": "2024-11-18T20:29:09.848218Z",
     "start_time": "2024-11-18T20:28:54.897087Z"
    }
   },
   "source": [
    "CNN_3D.fit(X_train, y_train, validation_data=(X_val, y_val), epochs=100, batch_size=32, verbose=0)\n",
    "CNN_3D.evaluate(X_test, y_test)"
   ],
   "outputs": [
    {
     "name": "stdout",
     "output_type": "stream",
     "text": [
      "4/4 [==============================] - 0s 7ms/step - loss: 1.5915 - accuracy: 0.7642\n"
     ]
    },
    {
     "data": {
      "text/plain": [
       "[1.5915217399597168, 0.7641509175300598]"
      ]
     },
     "execution_count": 8,
     "metadata": {},
     "output_type": "execute_result"
    }
   ],
   "execution_count": 8
  },
  {
   "cell_type": "markdown",
   "metadata": {},
   "source": [
    "##  Recurrent CNN (RCNN)"
   ]
  },
  {
   "cell_type": "code",
   "metadata": {
    "ExecuteTime": {
     "end_time": "2024-11-18T20:29:10.402732Z",
     "start_time": "2024-11-18T20:29:09.897301Z"
    }
   },
   "source": [
    "input_layer = Input(shape=(40, 86))\n",
    "x = Conv1D(64, kernel_size=3, activation='relu')(input_layer)\n",
    "x = Conv1D(128, kernel_size=3, activation='relu')(x)\n",
    "\n",
    "x = LSTM(128, return_sequences=True)(x)\n",
    "x = LSTM(64)(x)\n",
    "\n",
    "output = Dense(269, activation='softmax')(x)\n",
    "\n",
    "RCNN = Model(inputs=input_layer, outputs=output)\n",
    "RCNN.compile(optimizer='adam', loss='sparse_categorical_crossentropy', metrics=['accuracy'])"
   ],
   "outputs": [],
   "execution_count": 9
  },
  {
   "cell_type": "code",
   "metadata": {
    "ExecuteTime": {
     "end_time": "2024-11-18T20:29:50.910552Z",
     "start_time": "2024-11-18T20:29:10.433864Z"
    }
   },
   "source": [
    "RCNN.fit(X_train, y_train, validation_data=(X_val, y_val), epochs=100, batch_size=32, verbose=0)\n",
    "RCNN.evaluate(X_test, y_test)"
   ],
   "outputs": [
    {
     "name": "stdout",
     "output_type": "stream",
     "text": [
      "4/4 [==============================] - 0s 7ms/step - loss: 1.0171 - accuracy: 0.6604\n"
     ]
    },
    {
     "data": {
      "text/plain": [
       "[1.0171003341674805, 0.6603773832321167]"
      ]
     },
     "execution_count": 10,
     "metadata": {},
     "output_type": "execute_result"
    }
   ],
   "execution_count": 10
  },
  {
   "cell_type": "code",
   "execution_count": null,
   "metadata": {},
   "outputs": [],
   "source": []
  }
 ],
 "metadata": {
  "kernelspec": {
   "display_name": "Python 3",
   "language": "python",
   "name": "python3"
  },
  "language_info": {
   "codemirror_mode": {
    "name": "ipython",
    "version": 3
   },
   "file_extension": ".py",
   "mimetype": "text/x-python",
   "name": "python",
   "nbconvert_exporter": "python",
   "pygments_lexer": "ipython3",
   "version": "3.11.9"
  }
 },
 "nbformat": 4,
 "nbformat_minor": 2
}
